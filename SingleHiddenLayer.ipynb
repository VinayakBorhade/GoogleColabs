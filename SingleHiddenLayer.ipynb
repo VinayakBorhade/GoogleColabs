{
  "nbformat": 4,
  "nbformat_minor": 0,
  "metadata": {
    "colab": {
      "name": "SingleHiddenLayer.ipynb",
      "version": "0.3.2",
      "provenance": [],
      "collapsed_sections": [],
      "include_colab_link": true
    },
    "kernelspec": {
      "name": "python3",
      "display_name": "Python 3"
    }
  },
  "cells": [
    {
      "cell_type": "markdown",
      "metadata": {
        "id": "view-in-github",
        "colab_type": "text"
      },
      "source": [
        "<a href=\"https://colab.research.google.com/github/VinayakBorhade/GoogleColabs/blob/master/SingleHiddenLayer.ipynb\" target=\"_parent\"><img src=\"https://colab.research.google.com/assets/colab-badge.svg\" alt=\"Open In Colab\"/></a>"
      ]
    },
    {
      "metadata": {
        "id": "eO5NS_4TvRRx",
        "colab_type": "text"
      },
      "cell_type": "markdown",
      "source": [
        "# **Preproccessing Data**"
      ]
    },
    {
      "metadata": {
        "id": "mN-No-f1vdB2",
        "colab_type": "code",
        "colab": {}
      },
      "cell_type": "code",
      "source": [
        "import numpy as np\n",
        "from random import randint\n",
        "from sklearn.preprocessing import MinMaxScaler"
      ],
      "execution_count": 0,
      "outputs": []
    },
    {
      "metadata": {
        "id": "tnXlVfx6vvWu",
        "colab_type": "code",
        "colab": {}
      },
      "cell_type": "code",
      "source": [
        "train_labels=[]\n",
        "train_samples=[]"
      ],
      "execution_count": 0,
      "outputs": []
    },
    {
      "metadata": {
        "id": "6hq-Z_V-v0Yn",
        "colab_type": "text"
      },
      "cell_type": "markdown",
      "source": [
        "Example Data:\n",
        "\n",
        "\n",
        "*   An Experimental drug was tested on individuals from ages 13 to 100\n",
        "*   The trial had 2100 participants. Half were under 65 years old, half were over 65 years old\n",
        "*   95% of patients 65 years or older experienced side effects\n",
        "*   95% of patients below age of 65 years experienced no side effects\n",
        "\n",
        "\n",
        "\n"
      ]
    },
    {
      "metadata": {
        "id": "MxkrtzxZvzOm",
        "colab_type": "code",
        "colab": {}
      },
      "cell_type": "code",
      "source": [
        "for i in range(50):\n",
        "  random_younger=randint(13, 64)\n",
        "  train_samples.append(random_younger)\n",
        "  train_labels.append(1)\n",
        "  random_older=randint(65, 100)\n",
        "  train_samples.append(random_older)\n",
        "  train_labels.append(0)\n",
        "for i in range(1000):\n",
        "  random_younger=randint(13, 64)\n",
        "  train_samples.append(random_younger)\n",
        "  train_labels.append(0)\n",
        "  random_older=randint(65, 100)\n",
        "  train_samples.append(random_older)\n",
        "  train_labels.append(1)"
      ],
      "execution_count": 0,
      "outputs": []
    },
    {
      "metadata": {
        "id": "7QZxpySnyMCA",
        "colab_type": "code",
        "colab": {}
      },
      "cell_type": "code",
      "source": [
        "#printing generated raw data\n",
        "for i in train_samples:\n",
        "  print(i)"
      ],
      "execution_count": 0,
      "outputs": []
    },
    {
      "metadata": {
        "id": "DjqxoR3uybMm",
        "colab_type": "code",
        "colab": {}
      },
      "cell_type": "code",
      "source": [
        "train_labels=np.array(train_labels)\n",
        "train_samples=np.array(train_samples)"
      ],
      "execution_count": 0,
      "outputs": []
    },
    {
      "metadata": {
        "id": "TnpTZ8oKy3U_",
        "colab_type": "code",
        "outputId": "0a045e77-c1d0-43aa-be86-52b8bcf47632",
        "colab": {
          "base_uri": "https://localhost:8080/",
          "height": 72
        }
      },
      "cell_type": "code",
      "source": [
        "scaler=MinMaxScaler(feature_range=(0,1))\n",
        "scaled_train_samples=scaler.fit_transform((train_samples).reshape(-1,1))"
      ],
      "execution_count": 12,
      "outputs": [
        {
          "output_type": "stream",
          "text": [
            "/usr/local/lib/python3.6/dist-packages/sklearn/utils/validation.py:595: DataConversionWarning: Data with input dtype int64 was converted to float64 by MinMaxScaler.\n",
            "  warnings.warn(msg, DataConversionWarning)\n"
          ],
          "name": "stderr"
        }
      ]
    },
    {
      "metadata": {
        "id": "T6PubW9VzSLw",
        "colab_type": "code",
        "colab": {}
      },
      "cell_type": "code",
      "source": [
        "#print scaled data\n",
        "for i in scaled_train_samples:\n",
        "  print(i)"
      ],
      "execution_count": 0,
      "outputs": []
    },
    {
      "metadata": {
        "id": "_jKOn2Q8Q9E4",
        "colab_type": "text"
      },
      "cell_type": "markdown",
      "source": [
        "# **Creating Neural Net**"
      ]
    },
    {
      "metadata": {
        "id": "MtFjHV4gRBae",
        "colab_type": "code",
        "colab": {}
      },
      "cell_type": "code",
      "source": [
        "import keras\n",
        "from keras import backend as K\n",
        "from keras.models import Sequential\n",
        "from keras.layers import Activation\n",
        "from keras.layers.core import Dense\n",
        "from keras.optimizers import Adam\n",
        "from keras.metrics import categorical_crossentropy"
      ],
      "execution_count": 0,
      "outputs": []
    },
    {
      "metadata": {
        "id": "saChH1oWRkjN",
        "colab_type": "code",
        "colab": {}
      },
      "cell_type": "code",
      "source": [
        "model=Sequential([\n",
        "    Dense(16, input_shape=(1,), activation='relu'),\n",
        "    Dense(32, activation='relu'),\n",
        "    Dense(2, activation='softmax')\n",
        "])"
      ],
      "execution_count": 0,
      "outputs": []
    },
    {
      "metadata": {
        "id": "0hv65keCS2Vr",
        "colab_type": "code",
        "outputId": "d11a538a-3364-4ff5-90ce-1ca4193d4d22",
        "colab": {
          "base_uri": "https://localhost:8080/",
          "height": 247
        }
      },
      "cell_type": "code",
      "source": [
        "model.summary()"
      ],
      "execution_count": 16,
      "outputs": [
        {
          "output_type": "stream",
          "text": [
            "_________________________________________________________________\n",
            "Layer (type)                 Output Shape              Param #   \n",
            "=================================================================\n",
            "dense_4 (Dense)              (None, 16)                32        \n",
            "_________________________________________________________________\n",
            "dense_5 (Dense)              (None, 32)                544       \n",
            "_________________________________________________________________\n",
            "dense_6 (Dense)              (None, 2)                 66        \n",
            "=================================================================\n",
            "Total params: 642\n",
            "Trainable params: 642\n",
            "Non-trainable params: 0\n",
            "_________________________________________________________________\n"
          ],
          "name": "stdout"
        }
      ]
    },
    {
      "metadata": {
        "id": "p7_1XEWbTsrU",
        "colab_type": "code",
        "colab": {}
      },
      "cell_type": "code",
      "source": [
        "model.compile(Adam(lr=.0001), loss='sparse_categorical_crossentropy', metrics=['accuracy'])"
      ],
      "execution_count": 0,
      "outputs": []
    },
    {
      "metadata": {
        "id": "LqC19F3QVMWP",
        "colab_type": "code",
        "outputId": "877d0732-0439-47b3-af73-7fa751825807",
        "colab": {
          "base_uri": "https://localhost:8080/",
          "height": 763
        }
      },
      "cell_type": "code",
      "source": [
        "model.fit(scaled_train_samples, train_labels, validation_split=0.1, batch_size=10, epochs=20, shuffle=True, verbose=2)"
      ],
      "execution_count": 25,
      "outputs": [
        {
          "output_type": "stream",
          "text": [
            "Train on 1890 samples, validate on 210 samples\n",
            "Epoch 1/20\n",
            " - 0s - loss: 0.3594 - acc: 0.9471 - val_loss: 0.0157 - val_acc: 1.0000\n",
            "Epoch 2/20\n",
            " - 0s - loss: 0.3286 - acc: 0.9471 - val_loss: 0.0173 - val_acc: 1.0000\n",
            "Epoch 3/20\n",
            " - 0s - loss: 0.3067 - acc: 0.9471 - val_loss: 0.0197 - val_acc: 1.0000\n",
            "Epoch 4/20\n",
            " - 0s - loss: 0.2901 - acc: 0.9471 - val_loss: 0.0223 - val_acc: 1.0000\n",
            "Epoch 5/20\n",
            " - 0s - loss: 0.2763 - acc: 0.9471 - val_loss: 0.0249 - val_acc: 1.0000\n",
            "Epoch 6/20\n",
            " - 0s - loss: 0.2654 - acc: 0.9471 - val_loss: 0.0273 - val_acc: 1.0000\n",
            "Epoch 7/20\n",
            " - 0s - loss: 0.2561 - acc: 0.9471 - val_loss: 0.0320 - val_acc: 1.0000\n",
            "Epoch 8/20\n",
            " - 0s - loss: 0.2495 - acc: 0.9455 - val_loss: 0.0341 - val_acc: 1.0000\n",
            "Epoch 9/20\n",
            " - 0s - loss: 0.2437 - acc: 0.9471 - val_loss: 0.0374 - val_acc: 1.0000\n",
            "Epoch 10/20\n",
            " - 0s - loss: 0.2394 - acc: 0.9471 - val_loss: 0.0407 - val_acc: 1.0000\n",
            "Epoch 11/20\n",
            " - 0s - loss: 0.2360 - acc: 0.9471 - val_loss: 0.0437 - val_acc: 1.0000\n",
            "Epoch 12/20\n",
            " - 0s - loss: 0.2332 - acc: 0.9471 - val_loss: 0.0473 - val_acc: 1.0000\n",
            "Epoch 13/20\n",
            " - 0s - loss: 0.2314 - acc: 0.9471 - val_loss: 0.0488 - val_acc: 1.0000\n",
            "Epoch 14/20\n",
            " - 0s - loss: 0.2293 - acc: 0.9450 - val_loss: 0.0536 - val_acc: 0.9905\n",
            "Epoch 15/20\n",
            " - 0s - loss: 0.2285 - acc: 0.9471 - val_loss: 0.0532 - val_acc: 1.0000\n",
            "Epoch 16/20\n",
            " - 0s - loss: 0.2271 - acc: 0.9471 - val_loss: 0.0556 - val_acc: 1.0000\n",
            "Epoch 17/20\n",
            " - 0s - loss: 0.2264 - acc: 0.9471 - val_loss: 0.0570 - val_acc: 1.0000\n",
            "Epoch 18/20\n",
            " - 0s - loss: 0.2258 - acc: 0.9471 - val_loss: 0.0577 - val_acc: 1.0000\n",
            "Epoch 19/20\n",
            " - 0s - loss: 0.2250 - acc: 0.9471 - val_loss: 0.0601 - val_acc: 1.0000\n",
            "Epoch 20/20\n",
            " - 0s - loss: 0.2250 - acc: 0.9455 - val_loss: 0.0605 - val_acc: 1.0000\n"
          ],
          "name": "stdout"
        },
        {
          "output_type": "execute_result",
          "data": {
            "text/plain": [
              "<keras.callbacks.History at 0x7fdce72670b8>"
            ]
          },
          "metadata": {
            "tags": []
          },
          "execution_count": 25
        }
      ]
    },
    {
      "metadata": {
        "id": "xmffgOmwecLa",
        "colab_type": "text"
      },
      "cell_type": "markdown",
      "source": [
        "# **Generate Test Data**"
      ]
    },
    {
      "metadata": {
        "id": "kY73WIOQeai5",
        "colab_type": "code",
        "colab": {}
      },
      "cell_type": "code",
      "source": [
        "test_labels=[]\n",
        "test_samples=[]"
      ],
      "execution_count": 0,
      "outputs": []
    },
    {
      "metadata": {
        "id": "QHrSHEPMembh",
        "colab_type": "code",
        "colab": {}
      },
      "cell_type": "code",
      "source": [
        "for i in range(10):\n",
        "  random_younger=randint(13, 64)\n",
        "  test_samples.append(random_younger)\n",
        "  test_labels.append(1)\n",
        "  random_older=randint(65, 100)\n",
        "  test_samples.append(random_older)\n",
        "  test_labels.append(0)\n",
        "for i in range(200):\n",
        "  random_younger=randint(13, 64)\n",
        "  test_samples.append(random_younger)\n",
        "  test_labels.append(0)\n",
        "  random_older=randint(65, 100)\n",
        "  test_samples.append(random_older)\n",
        "  test_labels.append(1)"
      ],
      "execution_count": 0,
      "outputs": []
    },
    {
      "metadata": {
        "id": "qoMhcN90e8ko",
        "colab_type": "code",
        "colab": {}
      },
      "cell_type": "code",
      "source": [
        "test_samples=np.array(test_samples)\n",
        "test_labels=np.array(test_labels)"
      ],
      "execution_count": 0,
      "outputs": []
    },
    {
      "metadata": {
        "id": "c2Bkj_pqfC1B",
        "colab_type": "code",
        "colab": {
          "base_uri": "https://localhost:8080/",
          "height": 72
        },
        "outputId": "42a743c8-0f9b-43f2-bb13-92769dedd80f"
      },
      "cell_type": "code",
      "source": [
        "scaler=MinMaxScaler(feature_range=(0,1))\n",
        "scaled_test_samples=scaler.fit_transform((test_samples).reshape(-1,1))"
      ],
      "execution_count": 29,
      "outputs": [
        {
          "output_type": "stream",
          "text": [
            "/usr/local/lib/python3.6/dist-packages/sklearn/utils/validation.py:595: DataConversionWarning: Data with input dtype int64 was converted to float64 by MinMaxScaler.\n",
            "  warnings.warn(msg, DataConversionWarning)\n"
          ],
          "name": "stderr"
        }
      ]
    },
    {
      "metadata": {
        "id": "SxlJPOUXdMDj",
        "colab_type": "text"
      },
      "cell_type": "markdown",
      "source": [
        "# Predict"
      ]
    },
    {
      "metadata": {
        "id": "L-XU7_gZdJsb",
        "colab_type": "code",
        "colab": {}
      },
      "cell_type": "code",
      "source": [
        "predictions=model.predict(scaled_test_samples, batch_size=10, verbose=0)"
      ],
      "execution_count": 0,
      "outputs": []
    },
    {
      "metadata": {
        "id": "OJur5GTpfgWl",
        "colab_type": "code",
        "colab": {}
      },
      "cell_type": "code",
      "source": [
        "for i in predictions:\n",
        "  print(i)"
      ],
      "execution_count": 0,
      "outputs": []
    },
    {
      "metadata": {
        "id": "Bqo-GzPEfiWz",
        "colab_type": "code",
        "colab": {}
      },
      "cell_type": "code",
      "source": [
        "rounded_predictions=model.predict_classes(scaled_test_samples, batch_size=10, verbose=0)"
      ],
      "execution_count": 0,
      "outputs": []
    },
    {
      "metadata": {
        "id": "AAn2P-x7fyn4",
        "colab_type": "code",
        "colab": {}
      },
      "cell_type": "code",
      "source": [
        "for i in rounded_predictions:\n",
        "  print(i)"
      ],
      "execution_count": 0,
      "outputs": []
    },
    {
      "metadata": {
        "id": "oE9ZS88ihi14",
        "colab_type": "text"
      },
      "cell_type": "markdown",
      "source": [
        "# **Confusion Matrix**"
      ]
    },
    {
      "metadata": {
        "id": "BYvAsnGvhnUQ",
        "colab_type": "code",
        "colab": {}
      },
      "cell_type": "code",
      "source": [
        "from sklearn.metrics import confusion_matrix\n",
        "import itertools\n",
        "import matplotlib.pyplot as plt"
      ],
      "execution_count": 0,
      "outputs": []
    },
    {
      "metadata": {
        "id": "-wZx-gHTiosj",
        "colab_type": "code",
        "colab": {}
      },
      "cell_type": "code",
      "source": [
        "cm=confusion_matrix(test_labels, rounded_predictions)"
      ],
      "execution_count": 0,
      "outputs": []
    },
    {
      "metadata": {
        "id": "PuNM0m-7i8oC",
        "colab_type": "code",
        "colab": {}
      },
      "cell_type": "code",
      "source": [
        "def plot_confusion_matrix(cm, classes, normalize=False, title='Confusion Matrix', cmap=plt.cm.Blues):\n",
        "  plt.imshow(cm, interpolation='nearest', cmap=cmap)\n",
        "  plt.title(title)\n",
        "  plt.colorbar()\n",
        "  tick_marks=np.arange(len(classes))\n",
        "  plt.xticks(tick_marks, classes, rotation=45)\n",
        "  plt.yticks(tick_marks, classes)\n",
        "  if normalize:\n",
        "    cm=cm.astype('float')/cm.sum(axis=1)[:,np.newaxis]\n",
        "    print('Normalized Confusion Matrix')\n",
        "  else:\n",
        "    print('Confusion Matrix without Normalization')\n",
        "  \n",
        "  print(cm)\n",
        "  thresh=cm.max()/2.\n",
        "  for i,j in itertools.product(range(cm.shape[0]), range(cm.shape[1])):\n",
        "    plt.text(i, j, cm[i, j], horizontalalignment='center', color='white' if cm[i, j]>thresh else 'black')\n",
        "  \n",
        "  plt.tight_layout()\n",
        "  plt.ylabel('True label')\n",
        "  plt.xlabel('Predicted label')  "
      ],
      "execution_count": 0,
      "outputs": []
    },
    {
      "metadata": {
        "id": "jxA1O62amSy2",
        "colab_type": "code",
        "colab": {
          "base_uri": "https://localhost:8080/",
          "height": 467
        },
        "outputId": "3b77723a-5373-4796-ec75-35d61fa47bde"
      },
      "cell_type": "code",
      "source": [
        "cm_plot_labels=['no_side_effects','had_side_effects']\n",
        "plot_confusion_matrix(cm, cm_plot_labels, title='Confusion Matrix')"
      ],
      "execution_count": 44,
      "outputs": [
        {
          "output_type": "stream",
          "text": [
            "Confusion Matrix without Normalization\n",
            "[[200  10]\n",
            " [ 10 200]]\n"
          ],
          "name": "stdout"
        },
        {
          "output_type": "display_data",
          "data": {
            "image/png": "[encoded data removed]",
            "text/plain": [
              "<Figure size 576x396 with 2 Axes>"
            ]
          },
          "metadata": {
            "tags": []
          }
        }
      ]
    },
    {
      "metadata": {
        "id": "syasnZKGqBbw",
        "colab_type": "text"
      },
      "cell_type": "markdown",
      "source": [
        "# Save and Load Model"
      ]
    },
    {
      "metadata": {
        "id": "avri0cE_qIA7",
        "colab_type": "text"
      },
      "cell_type": "markdown",
      "source": [
        "## **1. model.save()**"
      ]
    },
    {
      "metadata": {
        "id": "KNNnnusEqP5s",
        "colab_type": "code",
        "colab": {}
      },
      "cell_type": "code",
      "source": [
        "model.save(\"medical_trial_model.h5\")"
      ],
      "execution_count": 0,
      "outputs": []
    },
    {
      "metadata": {
        "id": "4I4o--sWqbbc",
        "colab_type": "text"
      },
      "cell_type": "markdown",
      "source": [
        "This function saves:\n",
        "\n",
        "\n",
        "*   The architecture of model allowing to recreate the model\n",
        "*   The weights of the model\n",
        "*   The training configuration (loss, optimizer)\n",
        "*   The state of the optimizer, allowing to resume training exactly where you left off\n",
        "\n",
        "\n",
        "\n"
      ]
    },
    {
      "metadata": {
        "id": "dwj3ezUdrBrj",
        "colab_type": "code",
        "colab": {}
      },
      "cell_type": "code",
      "source": [
        "from keras.models import load_model\n",
        "new_model=load_model(\"medical_trial_model.h5\")"
      ],
      "execution_count": 0,
      "outputs": []
    },
    {
      "metadata": {
        "id": "hKCrX3sprYBC",
        "colab_type": "code",
        "colab": {
          "base_uri": "https://localhost:8080/",
          "height": 247
        },
        "outputId": "64fd6d5f-dccb-4899-96dd-c971a99fc135"
      },
      "cell_type": "code",
      "source": [
        "new_model.summary()"
      ],
      "execution_count": 47,
      "outputs": [
        {
          "output_type": "stream",
          "text": [
            "_________________________________________________________________\n",
            "Layer (type)                 Output Shape              Param #   \n",
            "=================================================================\n",
            "dense_4 (Dense)              (None, 16)                32        \n",
            "_________________________________________________________________\n",
            "dense_5 (Dense)              (None, 32)                544       \n",
            "_________________________________________________________________\n",
            "dense_6 (Dense)              (None, 2)                 66        \n",
            "=================================================================\n",
            "Total params: 642\n",
            "Trainable params: 642\n",
            "Non-trainable params: 0\n",
            "_________________________________________________________________\n"
          ],
          "name": "stdout"
        }
      ]
    },
    {
      "metadata": {
        "id": "Rda0zwBSrae-",
        "colab_type": "code",
        "colab": {}
      },
      "cell_type": "code",
      "source": [
        "new_model.get_weights()"
      ],
      "execution_count": 0,
      "outputs": []
    },
    {
      "metadata": {
        "id": "e4C9HcpMriDr",
        "colab_type": "code",
        "colab": {
          "base_uri": "https://localhost:8080/",
          "height": 34
        },
        "outputId": "8276aac6-509c-4985-8ad7-ef84349bc06b"
      },
      "cell_type": "code",
      "source": [
        "new_model.optimizer"
      ],
      "execution_count": 49,
      "outputs": [
        {
          "output_type": "execute_result",
          "data": {
            "text/plain": [
              "<keras.optimizers.Adam at 0x7fdce41fa128>"
            ]
          },
          "metadata": {
            "tags": []
          },
          "execution_count": 49
        }
      ]
    },
    {
      "metadata": {
        "id": "NIHF-bfbrn4q",
        "colab_type": "text"
      },
      "cell_type": "markdown",
      "source": [
        "## **2. model.to_json()**\n",
        "\n",
        "If you only need to save the architecture of the model, and not its weights or training configuration, you can use the following function to save the architecture only."
      ]
    },
    {
      "metadata": {
        "id": "jd7HPHISsKs6",
        "colab_type": "code",
        "colab": {}
      },
      "cell_type": "code",
      "source": [
        "json_string=model.to_json()"
      ],
      "execution_count": 0,
      "outputs": []
    },
    {
      "metadata": {
        "id": "gXcdHWEFss0r",
        "colab_type": "code",
        "colab": {}
      },
      "cell_type": "code",
      "source": [
        "json_string"
      ],
      "execution_count": 0,
      "outputs": []
    },
    {
      "metadata": {
        "id": "0Ixd47aYs9o5",
        "colab_type": "code",
        "colab": {}
      },
      "cell_type": "code",
      "source": [
        "#model reconstruction from json\n",
        "from keras.models import model_from_json\n",
        "model_architecture=model_from_json(json_string)"
      ],
      "execution_count": 0,
      "outputs": []
    },
    {
      "metadata": {
        "id": "jkzzj7G9tKsq",
        "colab_type": "code",
        "colab": {
          "base_uri": "https://localhost:8080/",
          "height": 247
        },
        "outputId": "cb018d26-1b90-4b7c-ca76-b6f18c86f5be"
      },
      "cell_type": "code",
      "source": [
        "model_architecture.summary()"
      ],
      "execution_count": 55,
      "outputs": [
        {
          "output_type": "stream",
          "text": [
            "_________________________________________________________________\n",
            "Layer (type)                 Output Shape              Param #   \n",
            "=================================================================\n",
            "dense_4 (Dense)              (None, 16)                32        \n",
            "_________________________________________________________________\n",
            "dense_5 (Dense)              (None, 32)                544       \n",
            "_________________________________________________________________\n",
            "dense_6 (Dense)              (None, 2)                 66        \n",
            "=================================================================\n",
            "Total params: 642\n",
            "Trainable params: 642\n",
            "Non-trainable params: 0\n",
            "_________________________________________________________________\n"
          ],
          "name": "stdout"
        }
      ]
    },
    {
      "metadata": {
        "id": "GX5CLlCtta6R",
        "colab_type": "text"
      },
      "cell_type": "markdown",
      "source": [
        "# **3. model.save_weights()**\n",
        "\n",
        "Only saves the weights of the model"
      ]
    },
    {
      "metadata": {
        "id": "fHQj_AdktpX6",
        "colab_type": "code",
        "colab": {}
      },
      "cell_type": "code",
      "source": [
        "model.save_weights(\"my_model_weights.h5\")"
      ],
      "execution_count": 0,
      "outputs": []
    },
    {
      "metadata": {
        "id": "tt1_8wXftw6i",
        "colab_type": "code",
        "colab": {}
      },
      "cell_type": "code",
      "source": [
        "model2=Sequential([\n",
        "    Dense(16, input_shape=(1,), activation='relu'),\n",
        "    Dense(32, activation='relu'),\n",
        "    Dense(2, activation='softmax')\n",
        "])"
      ],
      "execution_count": 0,
      "outputs": []
    },
    {
      "metadata": {
        "id": "6vzl62Qzt9iK",
        "colab_type": "code",
        "colab": {}
      },
      "cell_type": "code",
      "source": [
        "model2.load_weights(\"my_model_weights.h5\")"
      ],
      "execution_count": 0,
      "outputs": []
    }
  ]
}