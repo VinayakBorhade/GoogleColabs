{
  "nbformat": 4,
  "nbformat_minor": 0,
  "metadata": {
    "colab": {
      "name": "irisTutorial.ipynb",
      "version": "0.3.2",
      "provenance": [],
      "include_colab_link": true
    },
    "kernelspec": {
      "name": "python3",
      "display_name": "Python 3"
    }
  },
  "cells": [
    {
      "cell_type": "markdown",
      "metadata": {
        "id": "view-in-github",
        "colab_type": "text"
      },
      "source": [
        "<a href=\"https://colab.research.google.com/github/VinayakBorhade/GoogleColabs/blob/master/irisTutorial.ipynb\" target=\"_parent\"><img src=\"https://colab.research.google.com/assets/colab-badge.svg\" alt=\"Open In Colab\"/></a>"
      ]
    },
    {
      "metadata": {
        "id": "1BZtWhH8Xqs8",
        "colab_type": "code",
        "outputId": "4c4923b6-cf51-419a-c490-040048954e9e",
        "colab": {
          "base_uri": "https://localhost:8080/",
          "height": 251
        }
      },
      "cell_type": "code",
      "source": [
        "import numpy\n",
        "import pandas\n",
        "from keras.models import Sequential\n",
        "from keras.layers import Dense\n",
        "from keras.wrappers.scikit_learn import KerasClassifier\n",
        "from keras.utils import np_utils\n",
        "from sklearn.model_selection import cross_val_score\n",
        "from sklearn.model_selection import KFold\n",
        "from sklearn.preprocessing import LabelEncoder\n",
        "from sklearn.pipeline import Pipeline\n",
        "\n",
        "\n",
        "\n",
        "\n",
        "def baseline_model():\n",
        "    # create model\n",
        "    model = Sequential()\n",
        "    # TODO: change 1st dense to 1, change activation to sigmoid\n",
        "    model.add(Dense(8, input_dim=4, activation='relu'))\n",
        "    model.add(Dense(3, activation='softmax'))\n",
        "    # Compile model\n",
        "    model.compile(loss='categorical_crossentropy', optimizer='adam', metrics=['accuracy'])\n",
        "    return model\n",
        "\n",
        "def main():\n",
        "    print (\"Done loading the libraries\")\n",
        "    # fix random seed for reproducibility\n",
        "    seed = 7\n",
        "    numpy.random.seed(seed)\n",
        "\n",
        "\n",
        "\n",
        "    # load dataset\n",
        "    dataframe = pandas.read_csv(\"https://raw.githubusercontent.com/jervisfm/cs229-project/ea2941bc0e67c599ddffd69f982727f97479d2c7/irisTutorial/iris.csv\"\n",
        "                                , header=None)\n",
        "    dataset = dataframe.values\n",
        "    X = dataset[:,0:4].astype(float)\n",
        "    Y = dataset[:,4]\n",
        "\n",
        "    print (\"Done load dataset\")\n",
        "\n",
        "    #TODO: from 3 files, create the label and combine to 1 training data file\n",
        "\n",
        "    # do some more preprocessing\n",
        "    # encode class values as integers\n",
        "    encoder = LabelEncoder()\n",
        "    encoder.fit(Y)\n",
        "    encoded_Y = encoder.transform(Y)\n",
        "    # convert integers to dummy variables (i.e. one hot encoded)\n",
        "    dummy_y = np_utils.to_categorical(encoded_Y)\n",
        "\n",
        "    print (\"Done preprocessing dataset\")\n",
        "\n",
        "    # build the model\n",
        "    estimator = KerasClassifier(build_fn=baseline_model, epochs=200, batch_size=5, verbose=0)\n",
        "\n",
        "    print (\"Done building estimator\")\n",
        "\n",
        "    kfold = KFold(n_splits=2, shuffle=True, random_state=seed)\n",
        "\n",
        "    results = cross_val_score(estimator, X, dummy_y, cv=kfold)\n",
        "    print(\"Baseline: %.2f%% (%.2f%%)\" % (results.mean()*100, results.std()*100))\n",
        "\n",
        "if __name__ == '__main__':\n",
        "    main()"
      ],
      "execution_count": 0,
      "outputs": [
        {
          "output_type": "stream",
          "text": [
            "Using TensorFlow backend.\n"
          ],
          "name": "stderr"
        },
        {
          "output_type": "stream",
          "text": [
            "Done loading the libraries\n",
            "Done load dataset\n",
            "Done preprocessing dataset\n",
            "Done building estimator\n",
            "WARNING:tensorflow:From /usr/local/lib/python3.6/dist-packages/tensorflow/python/framework/op_def_library.py:263: colocate_with (from tensorflow.python.framework.ops) is deprecated and will be removed in a future version.\n",
            "Instructions for updating:\n",
            "Colocations handled automatically by placer.\n",
            "WARNING:tensorflow:From /usr/local/lib/python3.6/dist-packages/tensorflow/python/ops/math_ops.py:3066: to_int32 (from tensorflow.python.ops.math_ops) is deprecated and will be removed in a future version.\n",
            "Instructions for updating:\n",
            "Use tf.cast instead.\n",
            "Baseline: 98.67% (1.33%)\n"
          ],
          "name": "stdout"
        }
      ]
    }
  ]
}